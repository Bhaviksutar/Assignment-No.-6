{
 "cells": [
  {
   "cell_type": "markdown",
   "id": "d4fb6adf",
   "metadata": {},
   "source": [
    "# Assignment No. 6"
   ]
  },
  {
   "cell_type": "markdown",
   "id": "3e98a57e",
   "metadata": {},
   "source": [
    "#Question No.1:- What are escape characters, and how do you use them?\n",
    "\n",
    "Ans-\n",
    "It is composed of two or more characters starting with backslash \\. \n",
    "\n",
    "we can use them for spaces or to write a statement in the next line\n",
    "\n",
    "for example -  \\n represents new line."
   ]
  },
  {
   "cell_type": "markdown",
   "id": "e412f2ee",
   "metadata": {},
   "source": [
    "#Question No. 2:- What do the escape characters n and t stand for?\n",
    "\n",
    "Ans-\n",
    " n stands for representing for the newline\n",
    "    \n",
    " t stands for representing for the tab"
   ]
  },
  {
   "cell_type": "markdown",
   "id": "8ef22c73",
   "metadata": {},
   "source": [
    "#Question No. 3:- What is the way to include backslash characters in a string?\n",
    "\n",
    "Ans-\n",
    "The backslash is used to escape unprintable characters in string literals.\n",
    "\n",
    "By using the syntax \"\\\\\" within the string literal to represent a single backslash."
   ]
  },
  {
   "cell_type": "markdown",
   "id": "5ab7fea4",
   "metadata": {},
   "source": [
    "#Question No. 4:- The string \"Howl's Moving Castle\" is a correct value. Why isn't the single quote character in the word Howl's not escaped a problem?\n",
    "\n",
    "Ans-\n",
    "The single quote in Howl's is fine because we have used double quotes to mark the beginning and end of the string."
   ]
  },
  {
   "cell_type": "markdown",
   "id": "e004ec44",
   "metadata": {},
   "source": [
    "#Question No. 5:- How do you write a string of newlines if you don't want to use the n character?\n",
    "\n",
    "Ans-\n",
    "Multiline strings allow you to use newlines in strings without the \\n escape character."
   ]
  },
  {
   "cell_type": "code",
   "execution_count": 1,
   "id": "40090f2f",
   "metadata": {},
   "outputs": [
    {
     "data": {
      "text/plain": [
       "'e'"
      ]
     },
     "execution_count": 1,
     "metadata": {},
     "output_type": "execute_result"
    }
   ],
   "source": [
    "#Question No. 6:- What are the values of the given expressions?\n",
    "\n",
    "'Hello, world!'[1]"
   ]
  },
  {
   "cell_type": "code",
   "execution_count": 2,
   "id": "4163e309",
   "metadata": {},
   "outputs": [
    {
     "data": {
      "text/plain": [
       "'Hello'"
      ]
     },
     "execution_count": 2,
     "metadata": {},
     "output_type": "execute_result"
    }
   ],
   "source": [
    "'Hello, world!'[0:5]"
   ]
  },
  {
   "cell_type": "code",
   "execution_count": 3,
   "id": "ec974dbb",
   "metadata": {},
   "outputs": [
    {
     "data": {
      "text/plain": [
       "'Hello'"
      ]
     },
     "execution_count": 3,
     "metadata": {},
     "output_type": "execute_result"
    }
   ],
   "source": [
    "'Hello, world!'[:5]"
   ]
  },
  {
   "cell_type": "code",
   "execution_count": 4,
   "id": "cca75527",
   "metadata": {},
   "outputs": [
    {
     "data": {
      "text/plain": [
       "'lo, world!'"
      ]
     },
     "execution_count": 4,
     "metadata": {},
     "output_type": "execute_result"
    }
   ],
   "source": [
    "'Hello, world!'[3:]"
   ]
  },
  {
   "cell_type": "code",
   "execution_count": 5,
   "id": "9b826bc6",
   "metadata": {},
   "outputs": [
    {
     "data": {
      "text/plain": [
       "'HELLO'"
      ]
     },
     "execution_count": 5,
     "metadata": {},
     "output_type": "execute_result"
    }
   ],
   "source": [
    "#Question No. 7:- What are the values of the following expressions?\n",
    "\n",
    "'Hello'.upper()"
   ]
  },
  {
   "cell_type": "code",
   "execution_count": 6,
   "id": "932b5667",
   "metadata": {},
   "outputs": [
    {
     "data": {
      "text/plain": [
       "True"
      ]
     },
     "execution_count": 6,
     "metadata": {},
     "output_type": "execute_result"
    }
   ],
   "source": [
    "'Hello'.upper().isupper()"
   ]
  },
  {
   "cell_type": "code",
   "execution_count": 7,
   "id": "27a96944",
   "metadata": {},
   "outputs": [
    {
     "data": {
      "text/plain": [
       "'hello'"
      ]
     },
     "execution_count": 7,
     "metadata": {},
     "output_type": "execute_result"
    }
   ],
   "source": [
    "'Hello'.upper().lower()"
   ]
  },
  {
   "cell_type": "code",
   "execution_count": 8,
   "id": "8da5823f",
   "metadata": {},
   "outputs": [
    {
     "data": {
      "text/plain": [
       "['Remember,', 'remember,', 'the', 'fifth', 'of', 'July.']"
      ]
     },
     "execution_count": 8,
     "metadata": {},
     "output_type": "execute_result"
    }
   ],
   "source": [
    "#Question No. 8:- What are the values of the following expressions?\n",
    "\n",
    "'Remember, remember, the fifth of July.'.split()"
   ]
  },
  {
   "cell_type": "code",
   "execution_count": 9,
   "id": "5bada307",
   "metadata": {},
   "outputs": [
    {
     "data": {
      "text/plain": [
       "'There-can-only-one.'"
      ]
     },
     "execution_count": 9,
     "metadata": {},
     "output_type": "execute_result"
    }
   ],
   "source": [
    "'-'.join('There can only one.'.split())"
   ]
  },
  {
   "cell_type": "markdown",
   "id": "df6096a3",
   "metadata": {},
   "source": [
    "#Question No. 9:- What are the methods for right-justifying, left-justifying, and centering a string?\n",
    "\n",
    "Ans-\n",
    "for right-justifying rjust() function can be used\n",
    "\n",
    "for left-justifying ljust() function can be used\n",
    "\n",
    "for centering center() function can be used"
   ]
  },
  {
   "cell_type": "markdown",
   "id": "9f68fdc2",
   "metadata": {},
   "source": [
    "#Question No. 10:- What is the best way to remove whitespace characters from the start or end?\n",
    "\n",
    "Ans-\n",
    "The lstrip() and rstrip() methods remove whitespace from the left and right ends of a string"
   ]
  },
  {
   "cell_type": "code",
   "execution_count": null,
   "id": "2674d6dc",
   "metadata": {},
   "outputs": [],
   "source": []
  }
 ],
 "metadata": {
  "kernelspec": {
   "display_name": "Python 3 (ipykernel)",
   "language": "python",
   "name": "python3"
  },
  "language_info": {
   "codemirror_mode": {
    "name": "ipython",
    "version": 3
   },
   "file_extension": ".py",
   "mimetype": "text/x-python",
   "name": "python",
   "nbconvert_exporter": "python",
   "pygments_lexer": "ipython3",
   "version": "3.9.7"
  }
 },
 "nbformat": 4,
 "nbformat_minor": 5
}
